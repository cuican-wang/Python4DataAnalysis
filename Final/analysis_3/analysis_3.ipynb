{
 "cells": [
  {
   "cell_type": "code",
   "execution_count": 1,
   "metadata": {
    "collapsed": true
   },
   "outputs": [],
   "source": [
    "import pandas as pd"
   ]
  },
  {
   "cell_type": "code",
   "execution_count": 2,
   "metadata": {
    "collapsed": true
   },
   "outputs": [],
   "source": [
    "data = pd.read_csv('C:/Users/Wang/Desktop/Python4DataAnalysis/Final/test7.csv')"
   ]
  },
  {
   "cell_type": "code",
   "execution_count": 9,
   "metadata": {
    "collapsed": true
   },
   "outputs": [],
   "source": [
    "large_company_number = 0\n",
    "medium_company_number = 0\n",
    "small_company_number = 0"
   ]
  },
  {
   "cell_type": "code",
   "execution_count": 10,
   "metadata": {
    "collapsed": false
   },
   "outputs": [
    {
     "name": "stdout",
     "output_type": "stream",
     "text": [
      "large_company_number: 2415\n",
      "medium_company_number: 167\n",
      "small_company_number: 2809\n"
     ]
    }
   ],
   "source": [
    "for n in range(len(data)):\n",
    "    if data.loc[n,'cmpEmployees'] in ['501 to 1,000', '1,001 to 5,000', '5,001 to 10,000', '10,000+']:\n",
    "        large_company_number += 1\n",
    "    elif data.loc[n,'cmpEmployees'] in ['51 to 200', '201 to 500']:\n",
    "        medium_company_number += 1\n",
    "    else:\n",
    "        small_company_number += 1\n",
    "print('large_company_number: ' + str(large_company_number))\n",
    "print('medium_company_number: ' + str(medium_company_number))\n",
    "print('small_company_number: ' + str(small_company_number))"
   ]
  },
  {
   "cell_type": "code",
   "execution_count": 6,
   "metadata": {
    "collapsed": false
   },
   "outputs": [
    {
     "data": {
      "text/plain": [
       "5391"
      ]
     },
     "execution_count": 6,
     "metadata": {},
     "output_type": "execute_result"
    }
   ],
   "source": [
    "len(data)"
   ]
  },
  {
   "cell_type": "code",
   "execution_count": null,
   "metadata": {
    "collapsed": true
   },
   "outputs": [],
   "source": []
  }
 ],
 "metadata": {
  "kernelspec": {
   "display_name": "Python [default]",
   "language": "python",
   "name": "python3"
  },
  "language_info": {
   "codemirror_mode": {
    "name": "ipython",
    "version": 3
   },
   "file_extension": ".py",
   "mimetype": "text/x-python",
   "name": "python",
   "nbconvert_exporter": "python",
   "pygments_lexer": "ipython3",
   "version": "3.5.2"
  }
 },
 "nbformat": 4,
 "nbformat_minor": 1
}

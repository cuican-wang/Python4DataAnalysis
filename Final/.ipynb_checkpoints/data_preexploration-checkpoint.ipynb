{
 "cells": [
  {
   "cell_type": "code",
   "execution_count": 1,
   "metadata": {
    "collapsed": true
   },
   "outputs": [],
   "source": [
    "import pandas as pd"
   ]
  },
  {
   "cell_type": "code",
   "execution_count": 2,
   "metadata": {
    "collapsed": true
   },
   "outputs": [],
   "source": [
    "data = pd.read_csv('C:/Users/Wang/Desktop/Python4DataAnalysis/Final/test7.csv')"
   ]
  },
  {
   "cell_type": "code",
   "execution_count": 4,
   "metadata": {
    "collapsed": false
   },
   "outputs": [],
   "source": [
    "data_boston = pd.DataFrame(columns = data.columns)\n",
    "data_sanfran = pd.DataFrame(columns = data.columns)\n",
    "data_houston = pd.DataFrame(columns = data.columns)\n",
    "data_chicago = pd.DataFrame(columns = data.columns)\n",
    "data_palo = pd.DataFrame(columns = data.columns)\n",
    "data_newyork = pd.DataFrame(columns = data.columns)\n",
    "data_seattle = pd.DataFrame(columns = data.columns)\n",
    "data_dc = pd.DataFrame(columns = data.columns)\n",
    "data_atlanta = pd.DataFrame(columns = data.columns)\n",
    "data_sandiego = pd.DataFrame(columns = data.columns)"
   ]
  },
  {
   "cell_type": "code",
   "execution_count": 12,
   "metadata": {
    "collapsed": true
   },
   "outputs": [],
   "source": [
    "for n in range(len(data)):\n",
    "    if data.iloc[n]['jobCity'] == 'Atlanta':\n",
    "        data_atlanta.loc[n] = data.iloc[n]\n",
    "    elif data.iloc[n]['jobCity'] == 'Boston':\n",
    "        data_boston.loc[n] = data.iloc[n]\n",
    "    elif data.iloc[n]['jobCity'] == 'Chicago':\n",
    "        data_chicago.loc[n] = data.iloc[n]\n",
    "    elif data.iloc[n]['jobCity'] == 'Houston':\n",
    "        data_houston.loc[n] = data.iloc[n]\n",
    "    elif data.iloc[n]['jobCity'] == 'New-York':\n",
    "        data_newyork.loc[n] = data.iloc[n]\n",
    "    elif data.iloc[n]['jobCity'] == 'Palo-Alto':\n",
    "        data_palo.loc[n] = data.iloc[n]\n",
    "    elif data.iloc[n]['jobCity'] == 'San-Diego':\n",
    "        data_sandiego.loc[n] = data.iloc[n]\n",
    "    elif data.iloc[n]['jobCity'] == 'San-Francisco':\n",
    "        data_sanfran.loc[n] = data.iloc[n]\n",
    "    elif data.iloc[n]['jobCity'] == 'Seattle':\n",
    "        data_seattle.loc[n] = data.iloc[n]\n",
    "    elif data.iloc[n]['jobCity'] == 'Washington':\n",
    "        data_dc.loc[n] = data.iloc[n]"
   ]
  },
  {
   "cell_type": "code",
   "execution_count": 61,
   "metadata": {
    "collapsed": true
   },
   "outputs": [],
   "source": [
    "def ensure_dir(f):\n",
    "    if not os.path.exists(f):\n",
    "        os.makedirs(f)"
   ]
  },
  {
   "cell_type": "code",
   "execution_count": 13,
   "metadata": {
    "collapsed": true
   },
   "outputs": [],
   "source": [
    "data_all = [data_atlanta,data_boston,data_chicago,data_houston,data_newyork,data_palo,data_sandiego,data_sanfran,data_seattle,data_dc]"
   ]
  },
  {
   "cell_type": "code",
   "execution_count": 60,
   "metadata": {
    "collapsed": true
   },
   "outputs": [],
   "source": [
    "city = ['Atlanta','Boston','Chicago','Houston','New-York','Palo-Alto','San-Diego','San-Francisco','Seattle','Washington']"
   ]
  },
  {
   "cell_type": "code",
   "execution_count": 62,
   "metadata": {
    "collapsed": true
   },
   "outputs": [],
   "source": [
    "for n in range(len(data_all)):\n",
    "    data_all[n].index = range(len(data_all[n]))\n",
    "    path = 'C:/Users/Wang/Desktop/Python4DataAnalysis/Final/data/'\n",
    "    folderpath = path + city[n]\n",
    "    ensure_dir(folderpath)\n",
    "    csvpath = folderpath + '/' + city[n] + '.csv'\n",
    "    data_all[n].to_csv(csvpath, encoding='utf-8')"
   ]
  },
  {
   "cell_type": "code",
   "execution_count": 63,
   "metadata": {
    "collapsed": false
   },
   "outputs": [
    {
     "data": {
      "text/html": [
       "<div>\n",
       "<table border=\"1\" class=\"dataframe\">\n",
       "  <thead>\n",
       "    <tr style=\"text-align: right;\">\n",
       "      <th></th>\n",
       "      <th>Unnamed: 0</th>\n",
       "      <th>jobTitle</th>\n",
       "      <th>cmpName</th>\n",
       "      <th>cmpRating</th>\n",
       "      <th>cmpReviewsAmount</th>\n",
       "      <th>cmpReviews</th>\n",
       "      <th>cmpEmployees</th>\n",
       "      <th>jobCity</th>\n",
       "      <th>jobRegion</th>\n",
       "      <th>jobState</th>\n",
       "      <th>...</th>\n",
       "      <th>shark</th>\n",
       "      <th>shell</th>\n",
       "      <th>spark</th>\n",
       "      <th>splunk</th>\n",
       "      <th>spotfire</th>\n",
       "      <th>sps</th>\n",
       "      <th>spss</th>\n",
       "      <th>sql</th>\n",
       "      <th>tableau</th>\n",
       "      <th>zookeeper</th>\n",
       "    </tr>\n",
       "  </thead>\n",
       "  <tbody>\n",
       "    <tr>\n",
       "      <th>0</th>\n",
       "      <td>4864.0</td>\n",
       "      <td>Data Scientist</td>\n",
       "      <td>State Farm</td>\n",
       "      <td>4.0</td>\n",
       "      <td>3500.0</td>\n",
       "      <td>Worked their 10 years ago so my knowledge is o...</td>\n",
       "      <td>10,000+</td>\n",
       "      <td>Atlanta</td>\n",
       "      <td>Atlanta</td>\n",
       "      <td>GA</td>\n",
       "      <td>...</td>\n",
       "      <td>0.0</td>\n",
       "      <td>0.0</td>\n",
       "      <td>1.0</td>\n",
       "      <td>0.0</td>\n",
       "      <td>0.0</td>\n",
       "      <td>0.0</td>\n",
       "      <td>0.0</td>\n",
       "      <td>1.0</td>\n",
       "      <td>0.0</td>\n",
       "      <td>0.0</td>\n",
       "    </tr>\n",
       "    <tr>\n",
       "      <th>1</th>\n",
       "      <td>4865.0</td>\n",
       "      <td>Lead Data Scientist - Immediate Need!</td>\n",
       "      <td>CyberCoders</td>\n",
       "      <td>3.5</td>\n",
       "      <td>18.0</td>\n",
       "      <td>NaN</td>\n",
       "      <td>NaN</td>\n",
       "      <td>Atlanta</td>\n",
       "      <td>Atlanta</td>\n",
       "      <td>GA</td>\n",
       "      <td>...</td>\n",
       "      <td>0.0</td>\n",
       "      <td>0.0</td>\n",
       "      <td>1.0</td>\n",
       "      <td>0.0</td>\n",
       "      <td>0.0</td>\n",
       "      <td>0.0</td>\n",
       "      <td>0.0</td>\n",
       "      <td>1.0</td>\n",
       "      <td>0.0</td>\n",
       "      <td>0.0</td>\n",
       "    </tr>\n",
       "    <tr>\n",
       "      <th>2</th>\n",
       "      <td>4866.0</td>\n",
       "      <td>Data Scientist</td>\n",
       "      <td>North Highland</td>\n",
       "      <td>NaN</td>\n",
       "      <td>NaN</td>\n",
       "      <td>NaN</td>\n",
       "      <td>NaN</td>\n",
       "      <td>Atlanta</td>\n",
       "      <td>Berkeley Lake</td>\n",
       "      <td>GA</td>\n",
       "      <td>...</td>\n",
       "      <td>0.0</td>\n",
       "      <td>0.0</td>\n",
       "      <td>0.0</td>\n",
       "      <td>0.0</td>\n",
       "      <td>0.0</td>\n",
       "      <td>0.0</td>\n",
       "      <td>0.0</td>\n",
       "      <td>1.0</td>\n",
       "      <td>1.0</td>\n",
       "      <td>0.0</td>\n",
       "    </tr>\n",
       "    <tr>\n",
       "      <th>3</th>\n",
       "      <td>4867.0</td>\n",
       "      <td>Data Scientist Internship (Spring 2017)</td>\n",
       "      <td>Cox Automotive</td>\n",
       "      <td>3.3</td>\n",
       "      <td>47.0</td>\n",
       "      <td>Management is the killer in this organization ...</td>\n",
       "      <td>10,000+</td>\n",
       "      <td>Atlanta</td>\n",
       "      <td>Atlanta</td>\n",
       "      <td>GA</td>\n",
       "      <td>...</td>\n",
       "      <td>0.0</td>\n",
       "      <td>0.0</td>\n",
       "      <td>0.0</td>\n",
       "      <td>0.0</td>\n",
       "      <td>0.0</td>\n",
       "      <td>0.0</td>\n",
       "      <td>0.0</td>\n",
       "      <td>0.0</td>\n",
       "      <td>0.0</td>\n",
       "      <td>0.0</td>\n",
       "    </tr>\n",
       "    <tr>\n",
       "      <th>4</th>\n",
       "      <td>4868.0</td>\n",
       "      <td>Associate Research Scientist Job</td>\n",
       "      <td>Yoh</td>\n",
       "      <td>3.7</td>\n",
       "      <td>122.0</td>\n",
       "      <td>NaN</td>\n",
       "      <td>NaN</td>\n",
       "      <td>Atlanta</td>\n",
       "      <td>Duluth</td>\n",
       "      <td>GA</td>\n",
       "      <td>...</td>\n",
       "      <td>0.0</td>\n",
       "      <td>0.0</td>\n",
       "      <td>0.0</td>\n",
       "      <td>0.0</td>\n",
       "      <td>0.0</td>\n",
       "      <td>0.0</td>\n",
       "      <td>0.0</td>\n",
       "      <td>0.0</td>\n",
       "      <td>0.0</td>\n",
       "      <td>0.0</td>\n",
       "    </tr>\n",
       "  </tbody>\n",
       "</table>\n",
       "<p>5 rows × 65 columns</p>\n",
       "</div>"
      ],
      "text/plain": [
       "   Unnamed: 0                                 jobTitle         cmpName  \\\n",
       "0      4864.0                           Data Scientist      State Farm   \n",
       "1      4865.0    Lead Data Scientist - Immediate Need!     CyberCoders   \n",
       "2      4866.0                           Data Scientist  North Highland   \n",
       "3      4867.0  Data Scientist Internship (Spring 2017)  Cox Automotive   \n",
       "4      4868.0         Associate Research Scientist Job             Yoh   \n",
       "\n",
       "   cmpRating  cmpReviewsAmount  \\\n",
       "0        4.0            3500.0   \n",
       "1        3.5              18.0   \n",
       "2        NaN               NaN   \n",
       "3        3.3              47.0   \n",
       "4        3.7             122.0   \n",
       "\n",
       "                                          cmpReviews cmpEmployees  jobCity  \\\n",
       "0  Worked their 10 years ago so my knowledge is o...      10,000+  Atlanta   \n",
       "1                                                NaN          NaN  Atlanta   \n",
       "2                                                NaN          NaN  Atlanta   \n",
       "3  Management is the killer in this organization ...      10,000+  Atlanta   \n",
       "4                                                NaN          NaN  Atlanta   \n",
       "\n",
       "       jobRegion jobState    ...     shark shell  spark  splunk  spotfire  \\\n",
       "0        Atlanta       GA    ...       0.0   0.0    1.0     0.0       0.0   \n",
       "1        Atlanta       GA    ...       0.0   0.0    1.0     0.0       0.0   \n",
       "2  Berkeley Lake       GA    ...       0.0   0.0    0.0     0.0       0.0   \n",
       "3        Atlanta       GA    ...       0.0   0.0    0.0     0.0       0.0   \n",
       "4         Duluth       GA    ...       0.0   0.0    0.0     0.0       0.0   \n",
       "\n",
       "   sps  spss  sql  tableau  zookeeper  \n",
       "0  0.0   0.0  1.0      0.0        0.0  \n",
       "1  0.0   0.0  1.0      0.0        0.0  \n",
       "2  0.0   0.0  1.0      1.0        0.0  \n",
       "3  0.0   0.0  0.0      0.0        0.0  \n",
       "4  0.0   0.0  0.0      0.0        0.0  \n",
       "\n",
       "[5 rows x 65 columns]"
      ]
     },
     "execution_count": 63,
     "metadata": {},
     "output_type": "execute_result"
    }
   ],
   "source": [
    "data_atlanta.head()"
   ]
  },
  {
   "cell_type": "code",
   "execution_count": 64,
   "metadata": {
    "collapsed": false
   },
   "outputs": [
    {
     "data": {
      "text/plain": [
       "array(['2016-11-30T12:00', '2016-11-23T12:00', '2016-11-08T12:00',\n",
       "       '2016-12-04T12:00', '2016-11-21T12:00', '2016-11-18T12:00',\n",
       "       '2016-11-28T12:00', '2016-11-17T12:00', '2016-11-15T12:00',\n",
       "       '2016-11-22T12:00', '2016-10-14T12:00', '2016-10-07T12:00',\n",
       "       '2016-12-01T12:00', '2016-12-02T12:00', '2016-11-24T12:00',\n",
       "       '2016-11-16T12:00', '2016-11-09T12:00', '2016-10-26T12:00',\n",
       "       '2016-10-20T12:00', '2016-10-17T12:00', '2016-10-16T12:00',\n",
       "       '2016-10-06T12:00', '2016-10-04T12:00', '2016-09-11T12:00',\n",
       "       '2016-09-08T12:00', '2016-08-25T12:00', '2016-08-09T12:00',\n",
       "       '2016-05-27T12:00', '2016-05-26T12:00', '2016-10-31T12:00',\n",
       "       '2016-10-23T12:00', '2016-09-15T12:00', '2016-11-04T12:00',\n",
       "       '2016-10-19T12:00', '2016-10-18T12:00', '2016-10-15T12:00',\n",
       "       '2016-09-10T12:00', '2016-08-23T12:00', '2016-08-11T12:00',\n",
       "       '2016-07-20T12:00', '2016-05-16T12:00', '2016-11-10T12:00',\n",
       "       '2016-10-13T12:00', '2016-08-17T12:00', '2016-08-10T12:00',\n",
       "       '2016-10-28T12:00', '2016-09-28T12:00', '2016-09-04T12:00',\n",
       "       '2016-09-02T12:00', '2016-11-19T12:00', '2016-10-05T12:00',\n",
       "       '2016-09-24T12:00', '2016-09-23T12:00', '2016-09-13T12:00',\n",
       "       '2016-08-08T12:00', '2016-06-23T12:00', '2016-05-19T12:00',\n",
       "       '2016-11-05T12:00', '2016-10-12T12:00', '2016-11-20T12:00',\n",
       "       '2016-10-03T12:00', '2016-11-29T12:00', '2016-11-01T12:00',\n",
       "       '2016-09-14T12:00', '2016-05-23T12:00', '2016-10-11T12:00',\n",
       "       '2016-07-16T12:00', '2016-05-20T12:00', '2016-10-01T12:00',\n",
       "       '2016-09-09T12:00', '2016-06-13T12:00', '2016-12-03T12:00',\n",
       "       '2016-10-09T12:00', '2016-10-30T12:00', '2016-08-15T12:00',\n",
       "       '2016-08-19T12:00', '2016-08-16T12:00', '2016-11-02T12:00'], dtype=object)"
      ]
     },
     "execution_count": 64,
     "metadata": {},
     "output_type": "execute_result"
    }
   ],
   "source": [
    "data_all[0].postDate.unique()"
   ]
  },
  {
   "cell_type": "code",
   "execution_count": 32,
   "metadata": {
    "collapsed": false
   },
   "outputs": [
    {
     "data": {
      "text/plain": [
       "True"
      ]
     },
     "execution_count": 32,
     "metadata": {},
     "output_type": "execute_result"
    }
   ],
   "source": [
    "'2016-11-30T12:00' in data_all[0].postDate.unique()"
   ]
  },
  {
   "cell_type": "code",
   "execution_count": 34,
   "metadata": {
    "collapsed": false
   },
   "outputs": [
    {
     "data": {
      "text/plain": [
       "pandas.core.frame.DataFrame"
      ]
     },
     "execution_count": 34,
     "metadata": {},
     "output_type": "execute_result"
    }
   ],
   "source": [
    "type(data_all[0])"
   ]
  },
  {
   "cell_type": "code",
   "execution_count": 35,
   "metadata": {
    "collapsed": true
   },
   "outputs": [],
   "source": [
    "import os"
   ]
  },
  {
   "cell_type": "code",
   "execution_count": 53,
   "metadata": {
    "collapsed": false
   },
   "outputs": [
    {
     "data": {
      "text/plain": [
       "'2016-11-30'"
      ]
     },
     "execution_count": 53,
     "metadata": {},
     "output_type": "execute_result"
    }
   ],
   "source": [
    "'2016-11-30T12:00'.split(':')[0][:-3]"
   ]
  },
  {
   "cell_type": "code",
   "execution_count": 67,
   "metadata": {
    "collapsed": false
   },
   "outputs": [],
   "source": [
    "for n in range(len(data_all)):\n",
    "    basepath = 'C:/Users/Wang/Desktop/Python4DataAnalysis/Final/data/'+city[n] + '/'\n",
    "    for m in data_all[n].postDate.unique():\n",
    "        folderpath = basepath + m.split(':')[0][:-3]\n",
    "        ensure_dir(folderpath)\n",
    "        a = pd.DataFrame(columns=data.columns)\n",
    "        for i in range(len(data_all[n])):\n",
    "            if data_all[n].iloc[i].postDate == m:\n",
    "                a.loc[i] = data_all[n].iloc[i]\n",
    "                csvpath = folderpath + '/' + m.split(':')[0][:-3] + '.csv'\n",
    "                a.to_csv(csvpath,encoding='utf-8')        "
   ]
  },
  {
   "cell_type": "code",
   "execution_count": null,
   "metadata": {
    "collapsed": true
   },
   "outputs": [],
   "source": []
  }
 ],
 "metadata": {
  "anaconda-cloud": {},
  "kernelspec": {
   "display_name": "Python [default]",
   "language": "python",
   "name": "python3"
  },
  "language_info": {
   "codemirror_mode": {
    "name": "ipython",
    "version": 3
   },
   "file_extension": ".py",
   "mimetype": "text/x-python",
   "name": "python",
   "nbconvert_exporter": "python",
   "pygments_lexer": "ipython3",
   "version": "3.5.2"
  }
 },
 "nbformat": 4,
 "nbformat_minor": 1
}
